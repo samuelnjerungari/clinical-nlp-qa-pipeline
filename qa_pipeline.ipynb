{
 "cells": [
  {
   "cell_type": "code",
   "execution_count": 1,
   "id": "bffb5016-914c-4ab0-bd06-373a57a69f12",
   "metadata": {},
   "outputs": [],
   "source": [
    "import pandas as pd\n",
    "import numpy as np\n"
   ]
  },
  {
   "cell_type": "code",
   "execution_count": 2,
   "id": "18bcd838-1537-46bd-8e30-3c6a0f73b033",
   "metadata": {},
   "outputs": [
    {
     "name": "stdout",
     "output_type": "stream",
     "text": [
      "Human Annotations:\n"
     ]
    },
    {
     "data": {
      "text/html": [
       "<div>\n",
       "<style scoped>\n",
       "    .dataframe tbody tr th:only-of-type {\n",
       "        vertical-align: middle;\n",
       "    }\n",
       "\n",
       "    .dataframe tbody tr th {\n",
       "        vertical-align: top;\n",
       "    }\n",
       "\n",
       "    .dataframe thead th {\n",
       "        text-align: right;\n",
       "    }\n",
       "</style>\n",
       "<table border=\"1\" class=\"dataframe\">\n",
       "  <thead>\n",
       "    <tr style=\"text-align: right;\">\n",
       "      <th></th>\n",
       "      <th>text</th>\n",
       "      <th>start</th>\n",
       "      <th>end</th>\n",
       "      <th>label</th>\n",
       "    </tr>\n",
       "  </thead>\n",
       "  <tbody>\n",
       "    <tr>\n",
       "      <th>0</th>\n",
       "      <td>Aspirin</td>\n",
       "      <td>0</td>\n",
       "      <td>7</td>\n",
       "      <td>DRUG</td>\n",
       "    </tr>\n",
       "    <tr>\n",
       "      <th>1</th>\n",
       "      <td>500 mg</td>\n",
       "      <td>8</td>\n",
       "      <td>14</td>\n",
       "      <td>DOSAGE</td>\n",
       "    </tr>\n",
       "    <tr>\n",
       "      <th>2</th>\n",
       "      <td>headache</td>\n",
       "      <td>22</td>\n",
       "      <td>30</td>\n",
       "      <td>CONDITION</td>\n",
       "    </tr>\n",
       "  </tbody>\n",
       "</table>\n",
       "</div>"
      ],
      "text/plain": [
       "       text  start  end      label\n",
       "0   Aspirin      0    7       DRUG\n",
       "1    500 mg      8   14     DOSAGE\n",
       "2  headache     22   30  CONDITION"
      ]
     },
     "metadata": {},
     "output_type": "display_data"
    },
    {
     "name": "stdout",
     "output_type": "stream",
     "text": [
      "Machine Annotations:\n"
     ]
    },
    {
     "data": {
      "text/html": [
       "<div>\n",
       "<style scoped>\n",
       "    .dataframe tbody tr th:only-of-type {\n",
       "        vertical-align: middle;\n",
       "    }\n",
       "\n",
       "    .dataframe tbody tr th {\n",
       "        vertical-align: top;\n",
       "    }\n",
       "\n",
       "    .dataframe thead th {\n",
       "        text-align: right;\n",
       "    }\n",
       "</style>\n",
       "<table border=\"1\" class=\"dataframe\">\n",
       "  <thead>\n",
       "    <tr style=\"text-align: right;\">\n",
       "      <th></th>\n",
       "      <th>text</th>\n",
       "      <th>start</th>\n",
       "      <th>end</th>\n",
       "      <th>label</th>\n",
       "    </tr>\n",
       "  </thead>\n",
       "  <tbody>\n",
       "    <tr>\n",
       "      <th>0</th>\n",
       "      <td>Aspirin</td>\n",
       "      <td>0</td>\n",
       "      <td>7</td>\n",
       "      <td>DRUG</td>\n",
       "    </tr>\n",
       "    <tr>\n",
       "      <th>1</th>\n",
       "      <td>500 mg</td>\n",
       "      <td>8</td>\n",
       "      <td>14</td>\n",
       "      <td>STRENGTH</td>\n",
       "    </tr>\n",
       "    <tr>\n",
       "      <th>2</th>\n",
       "      <td>migraine</td>\n",
       "      <td>22</td>\n",
       "      <td>30</td>\n",
       "      <td>CONDITION</td>\n",
       "    </tr>\n",
       "  </tbody>\n",
       "</table>\n",
       "</div>"
      ],
      "text/plain": [
       "       text  start  end      label\n",
       "0   Aspirin      0    7       DRUG\n",
       "1    500 mg      8   14   STRENGTH\n",
       "2  migraine     22   30  CONDITION"
      ]
     },
     "metadata": {},
     "output_type": "display_data"
    }
   ],
   "source": [
    "# Set your project path\n",
    "base_path = \"C:/Users/Administrator/clinical-nlp-projects/clinical-nlp-qa-pipeline/\"\n",
    "\n",
    "# Load the annotations\n",
    "human_df = pd.read_csv(base_path + \"human_annotations.csv\")\n",
    "machine_df = pd.read_csv(base_path + \"machine_annotations.csv\")\n",
    "\n",
    "# Preview the data\n",
    "print(\"Human Annotations:\")\n",
    "display(human_df)\n",
    "\n",
    "print(\"Machine Annotations:\")\n",
    "display(machine_df)\n"
   ]
  },
  {
   "cell_type": "code",
   "execution_count": 3,
   "id": "2e8222a2-eb55-45c7-970a-b00546aec4e7",
   "metadata": {},
   "outputs": [],
   "source": [
    "def preprocess(df, source):\n",
    "    df = df.copy()\n",
    "    df[\"label\"] = df[\"label\"].str.upper().str.strip()\n",
    "    df[\"text\"] = df[\"text\"].str.strip()\n",
    "    df[\"source\"] = source\n",
    "    df[\"entity_id\"] = df[\"start\"].astype(str) + \"_\" + df[\"end\"].astype(str) + \"_\" + df[\"label\"]\n",
    "    return df\n",
    "\n",
    "human_df = preprocess(human_df, \"human\")\n",
    "machine_df = preprocess(machine_df, \"machine\")\n"
   ]
  },
  {
   "cell_type": "code",
   "execution_count": 4,
   "id": "805197db-0e03-4091-b847-625cb3f479d2",
   "metadata": {},
   "outputs": [
    {
     "name": "stdout",
     "output_type": "stream",
     "text": [
      "Preprocessed Human Annotations:\n"
     ]
    },
    {
     "data": {
      "text/html": [
       "<div>\n",
       "<style scoped>\n",
       "    .dataframe tbody tr th:only-of-type {\n",
       "        vertical-align: middle;\n",
       "    }\n",
       "\n",
       "    .dataframe tbody tr th {\n",
       "        vertical-align: top;\n",
       "    }\n",
       "\n",
       "    .dataframe thead th {\n",
       "        text-align: right;\n",
       "    }\n",
       "</style>\n",
       "<table border=\"1\" class=\"dataframe\">\n",
       "  <thead>\n",
       "    <tr style=\"text-align: right;\">\n",
       "      <th></th>\n",
       "      <th>text</th>\n",
       "      <th>start</th>\n",
       "      <th>end</th>\n",
       "      <th>label</th>\n",
       "      <th>source</th>\n",
       "      <th>entity_id</th>\n",
       "    </tr>\n",
       "  </thead>\n",
       "  <tbody>\n",
       "    <tr>\n",
       "      <th>0</th>\n",
       "      <td>Aspirin</td>\n",
       "      <td>0</td>\n",
       "      <td>7</td>\n",
       "      <td>DRUG</td>\n",
       "      <td>human</td>\n",
       "      <td>0_7_DRUG</td>\n",
       "    </tr>\n",
       "    <tr>\n",
       "      <th>1</th>\n",
       "      <td>500 mg</td>\n",
       "      <td>8</td>\n",
       "      <td>14</td>\n",
       "      <td>DOSAGE</td>\n",
       "      <td>human</td>\n",
       "      <td>8_14_DOSAGE</td>\n",
       "    </tr>\n",
       "    <tr>\n",
       "      <th>2</th>\n",
       "      <td>headache</td>\n",
       "      <td>22</td>\n",
       "      <td>30</td>\n",
       "      <td>CONDITION</td>\n",
       "      <td>human</td>\n",
       "      <td>22_30_CONDITION</td>\n",
       "    </tr>\n",
       "  </tbody>\n",
       "</table>\n",
       "</div>"
      ],
      "text/plain": [
       "       text  start  end      label source        entity_id\n",
       "0   Aspirin      0    7       DRUG  human         0_7_DRUG\n",
       "1    500 mg      8   14     DOSAGE  human      8_14_DOSAGE\n",
       "2  headache     22   30  CONDITION  human  22_30_CONDITION"
      ]
     },
     "metadata": {},
     "output_type": "display_data"
    },
    {
     "name": "stdout",
     "output_type": "stream",
     "text": [
      "Preprocessed Machine Annotations:\n"
     ]
    },
    {
     "data": {
      "text/html": [
       "<div>\n",
       "<style scoped>\n",
       "    .dataframe tbody tr th:only-of-type {\n",
       "        vertical-align: middle;\n",
       "    }\n",
       "\n",
       "    .dataframe tbody tr th {\n",
       "        vertical-align: top;\n",
       "    }\n",
       "\n",
       "    .dataframe thead th {\n",
       "        text-align: right;\n",
       "    }\n",
       "</style>\n",
       "<table border=\"1\" class=\"dataframe\">\n",
       "  <thead>\n",
       "    <tr style=\"text-align: right;\">\n",
       "      <th></th>\n",
       "      <th>text</th>\n",
       "      <th>start</th>\n",
       "      <th>end</th>\n",
       "      <th>label</th>\n",
       "      <th>source</th>\n",
       "      <th>entity_id</th>\n",
       "    </tr>\n",
       "  </thead>\n",
       "  <tbody>\n",
       "    <tr>\n",
       "      <th>0</th>\n",
       "      <td>Aspirin</td>\n",
       "      <td>0</td>\n",
       "      <td>7</td>\n",
       "      <td>DRUG</td>\n",
       "      <td>machine</td>\n",
       "      <td>0_7_DRUG</td>\n",
       "    </tr>\n",
       "    <tr>\n",
       "      <th>1</th>\n",
       "      <td>500 mg</td>\n",
       "      <td>8</td>\n",
       "      <td>14</td>\n",
       "      <td>STRENGTH</td>\n",
       "      <td>machine</td>\n",
       "      <td>8_14_STRENGTH</td>\n",
       "    </tr>\n",
       "    <tr>\n",
       "      <th>2</th>\n",
       "      <td>migraine</td>\n",
       "      <td>22</td>\n",
       "      <td>30</td>\n",
       "      <td>CONDITION</td>\n",
       "      <td>machine</td>\n",
       "      <td>22_30_CONDITION</td>\n",
       "    </tr>\n",
       "  </tbody>\n",
       "</table>\n",
       "</div>"
      ],
      "text/plain": [
       "       text  start  end      label   source        entity_id\n",
       "0   Aspirin      0    7       DRUG  machine         0_7_DRUG\n",
       "1    500 mg      8   14   STRENGTH  machine    8_14_STRENGTH\n",
       "2  migraine     22   30  CONDITION  machine  22_30_CONDITION"
      ]
     },
     "metadata": {},
     "output_type": "display_data"
    }
   ],
   "source": [
    "print(\"Preprocessed Human Annotations:\")\n",
    "display(human_df)\n",
    "\n",
    "print(\"Preprocessed Machine Annotations:\")\n",
    "display(machine_df)\n"
   ]
  },
  {
   "cell_type": "code",
   "execution_count": 5,
   "id": "38701a9b-e671-453b-833c-8418d6e6faf3",
   "metadata": {},
   "outputs": [],
   "source": [
    "# Combine both human and machine annotations\n",
    "all_annotations = pd.concat([human_df, machine_df], ignore_index=True)\n",
    "\n",
    "# Group by span (start, end)\n",
    "grouped = all_annotations.groupby([\"start\", \"end\"])\n"
   ]
  },
  {
   "cell_type": "code",
   "execution_count": 6,
   "id": "5be7138c-0555-4968-8581-8b8bb390c984",
   "metadata": {},
   "outputs": [],
   "source": [
    "qa_results = []\n",
    "\n",
    "for (start, end), group in grouped:\n",
    "    labels = group[\"label\"].tolist()\n",
    "    sources = group[\"source\"].tolist()\n",
    "    texts = group[\"text\"].tolist()\n",
    "\n",
    "    # Exact Match\n",
    "    if \"human\" in sources and \"machine\" in sources and labels[0] == labels[1]:\n",
    "        match_type = \"True Positive\"\n",
    "        error_type = None\n",
    "\n",
    "    # Partial Match (same span, different label)\n",
    "    elif \"human\" in sources and \"machine\" in sources and labels[0] != labels[1]:\n",
    "        match_type = \"Partial Match\"\n",
    "        error_type = \"Label Mismatch\"\n",
    "\n",
    "    # False Negative (only human)\n",
    "    elif \"human\" in sources and \"machine\" not in sources:\n",
    "        match_type = \"False Negative\"\n",
    "        error_type = \"Missed by Machine\"\n",
    "\n",
    "    # False Positive (only machine)\n",
    "    elif \"machine\" in sources and \"human\" not in sources:\n",
    "        match_type = \"False Positive\"\n",
    "        error_type = \"Spurious Prediction\"\n",
    "\n",
    "    else:\n",
    "        match_type = \"Other\"\n",
    "        error_type = \"Unknown Case\"\n",
    "\n",
    "    # Store QA info\n",
    "    qa_results.append({\n",
    "        \"start\": start,\n",
    "        \"end\": end,\n",
    "        \"text\": texts[0],\n",
    "        \"human_label\": group[group.source == \"human\"][\"label\"].values[0] if \"human\" in sources else None,\n",
    "        \"machine_label\": group[group.source == \"machine\"][\"label\"].values[0] if \"machine\" in sources else None,\n",
    "        \"match_type\": match_type,\n",
    "        \"error_type\": error_type\n",
    "    })\n",
    "\n",
    "# Convert to DataFrame\n",
    "qa_df = pd.DataFrame(qa_results)\n"
   ]
  },
  {
   "cell_type": "code",
   "execution_count": 7,
   "id": "f32f971a-6f99-4a39-b588-8a35f356c3d6",
   "metadata": {},
   "outputs": [
    {
     "data": {
      "text/html": [
       "<div>\n",
       "<style scoped>\n",
       "    .dataframe tbody tr th:only-of-type {\n",
       "        vertical-align: middle;\n",
       "    }\n",
       "\n",
       "    .dataframe tbody tr th {\n",
       "        vertical-align: top;\n",
       "    }\n",
       "\n",
       "    .dataframe thead th {\n",
       "        text-align: right;\n",
       "    }\n",
       "</style>\n",
       "<table border=\"1\" class=\"dataframe\">\n",
       "  <thead>\n",
       "    <tr style=\"text-align: right;\">\n",
       "      <th></th>\n",
       "      <th>start</th>\n",
       "      <th>end</th>\n",
       "      <th>text</th>\n",
       "      <th>human_label</th>\n",
       "      <th>machine_label</th>\n",
       "      <th>match_type</th>\n",
       "      <th>error_type</th>\n",
       "    </tr>\n",
       "  </thead>\n",
       "  <tbody>\n",
       "    <tr>\n",
       "      <th>0</th>\n",
       "      <td>0</td>\n",
       "      <td>7</td>\n",
       "      <td>Aspirin</td>\n",
       "      <td>DRUG</td>\n",
       "      <td>DRUG</td>\n",
       "      <td>True Positive</td>\n",
       "      <td>None</td>\n",
       "    </tr>\n",
       "    <tr>\n",
       "      <th>1</th>\n",
       "      <td>8</td>\n",
       "      <td>14</td>\n",
       "      <td>500 mg</td>\n",
       "      <td>DOSAGE</td>\n",
       "      <td>STRENGTH</td>\n",
       "      <td>Partial Match</td>\n",
       "      <td>Label Mismatch</td>\n",
       "    </tr>\n",
       "    <tr>\n",
       "      <th>2</th>\n",
       "      <td>22</td>\n",
       "      <td>30</td>\n",
       "      <td>headache</td>\n",
       "      <td>CONDITION</td>\n",
       "      <td>CONDITION</td>\n",
       "      <td>True Positive</td>\n",
       "      <td>None</td>\n",
       "    </tr>\n",
       "  </tbody>\n",
       "</table>\n",
       "</div>"
      ],
      "text/plain": [
       "   start  end      text human_label machine_label     match_type  \\\n",
       "0      0    7   Aspirin        DRUG          DRUG  True Positive   \n",
       "1      8   14    500 mg      DOSAGE      STRENGTH  Partial Match   \n",
       "2     22   30  headache   CONDITION     CONDITION  True Positive   \n",
       "\n",
       "       error_type  \n",
       "0            None  \n",
       "1  Label Mismatch  \n",
       "2            None  "
      ]
     },
     "metadata": {},
     "output_type": "display_data"
    }
   ],
   "source": [
    "# Show final QA comparison table\n",
    "display(qa_df)\n"
   ]
  },
  {
   "cell_type": "code",
   "execution_count": 8,
   "id": "de11d7df-bafe-4346-8b8b-c30da1e4ff99",
   "metadata": {},
   "outputs": [
    {
     "name": "stdout",
     "output_type": "stream",
     "text": [
      "Match Type Counts:\n",
      " match_type\n",
      "True Positive    2\n",
      "Partial Match    1\n",
      "Name: count, dtype: int64\n",
      "\n",
      "Error Types:\n",
      " error_type\n",
      "None              2\n",
      "Label Mismatch    1\n",
      "Name: count, dtype: int64\n"
     ]
    }
   ],
   "source": [
    "# Count match types\n",
    "match_counts = qa_df[\"match_type\"].value_counts()\n",
    "print(\"Match Type Counts:\\n\", match_counts)\n",
    "\n",
    "# Count errors\n",
    "error_counts = qa_df[\"error_type\"].value_counts(dropna=False)\n",
    "print(\"\\nError Types:\\n\", error_counts)\n"
   ]
  },
  {
   "cell_type": "code",
   "execution_count": 9,
   "id": "73de240d-356c-4494-9bdd-c93e68a07f7a",
   "metadata": {},
   "outputs": [
    {
     "name": "stdout",
     "output_type": "stream",
     "text": [
      "Precision: 1.00\n",
      "Recall:    1.00\n",
      "F1 Score:  1.00\n",
      "Partial Matches: 1\n"
     ]
    }
   ],
   "source": [
    "TP = (qa_df[\"match_type\"] == \"True Positive\").sum()\n",
    "FP = (qa_df[\"match_type\"] == \"False Positive\").sum()\n",
    "FN = (qa_df[\"match_type\"] == \"False Negative\").sum()\n",
    "Partial = (qa_df[\"match_type\"] == \"Partial Match\").sum()\n",
    "\n",
    "# Metrics\n",
    "precision = TP / (TP + FP) if (TP + FP) > 0 else 0\n",
    "recall = TP / (TP + FN) if (TP + FN) > 0 else 0\n",
    "f1 = 2 * (precision * recall) / (precision + recall) if (precision + recall) > 0 else 0\n",
    "\n",
    "# Print results\n",
    "print(f\"Precision: {precision:.2f}\")\n",
    "print(f\"Recall:    {recall:.2f}\")\n",
    "print(f\"F1 Score:  {f1:.2f}\")\n",
    "print(f\"Partial Matches: {Partial}\")\n"
   ]
  },
  {
   "cell_type": "code",
   "execution_count": 10,
   "id": "c46d0edf-dcba-48da-a258-3aa358124fff",
   "metadata": {},
   "outputs": [
    {
     "name": "stdout",
     "output_type": "stream",
     "text": [
      "QA report saved to qa_report.csv ✅\n"
     ]
    }
   ],
   "source": [
    "qa_df.to_csv(base_path + \"qa_report.csv\", index=False)\n",
    "print(\"QA report saved to qa_report.csv ✅\")\n"
   ]
  },
  {
   "cell_type": "code",
   "execution_count": 11,
   "id": "aa77fa08-c118-4782-894f-02563860b914",
   "metadata": {},
   "outputs": [],
   "source": [
    "import matplotlib.pyplot as plt\n",
    "import seaborn as sns\n",
    "\n",
    "# Style\n",
    "sns.set(style=\"whitegrid\")\n"
   ]
  },
  {
   "cell_type": "code",
   "execution_count": 13,
   "id": "70bed8ac-fdc2-40f5-afcf-adc3d9259869",
   "metadata": {},
   "outputs": [
    {
     "data": {
      "image/png": "[encoded data removed]",
      "text/plain": [
       "<Figure size 600x400 with 1 Axes>"
      ]
     },
     "metadata": {},
     "output_type": "display_data"
    }
   ],
   "source": [
    "# Bar plot of match types (future-proofed)\n",
    "plt.figure(figsize=(6, 4))\n",
    "sns.countplot(data=qa_df, x=\"match_type\", hue=\"match_type\", palette=\"Set2\", legend=False)\n",
    "plt.title(\"Annotation Match Types\")\n",
    "plt.xlabel(\"Match Type\")\n",
    "plt.ylabel(\"Count\")\n",
    "plt.xticks(rotation=15)\n",
    "plt.tight_layout()\n",
    "plt.show()\n"
   ]
  },
  {
   "cell_type": "code",
   "execution_count": 14,
   "id": "ba146b0f-585a-4eb6-9f9e-c350d1d46fb3",
   "metadata": {},
   "outputs": [
    {
     "data": {
      "image/png": "[encoded data removed]",
      "text/plain": [
       "<Figure size 500x500 with 1 Axes>"
      ]
     },
     "metadata": {},
     "output_type": "display_data"
    }
   ],
   "source": [
    "# Fill NaN with 'None' for plotting\n",
    "qa_df[\"error_type_filled\"] = qa_df[\"error_type\"].fillna(\"None\")\n",
    "\n",
    "# Pie chart\n",
    "error_counts = qa_df[\"error_type_filled\"].value_counts()\n",
    "\n",
    "plt.figure(figsize=(5, 5))\n",
    "plt.pie(error_counts, labels=error_counts.index, autopct='%1.1f%%', colors=sns.color_palette(\"pastel\"))\n",
    "plt.title(\"Distribution of Annotation Errors\")\n",
    "plt.tight_layout()\n",
    "plt.show()\n"
   ]
  },
  {
   "cell_type": "code",
   "execution_count": 16,
   "id": "71c6580c-a7fa-4597-bd73-b791f88c6691",
   "metadata": {},
   "outputs": [
    {
     "name": "stdout",
     "output_type": "stream",
     "text": [
      "Charts saved to PNG ✅\n"
     ]
    },
    {
     "data": {
      "image/png": "[encoded data removed]",
      "text/plain": [
       "<Figure size 600x400 with 1 Axes>"
      ]
     },
     "metadata": {},
     "output_type": "display_data"
    },
    {
     "data": {
      "image/png": "[encoded data removed]",
      "text/plain": [
       "<Figure size 500x500 with 1 Axes>"
      ]
     },
     "metadata": {},
     "output_type": "display_data"
    }
   ],
   "source": [
    "# ✅ Save bar chart (no warning)\n",
    "plt.figure(figsize=(6, 4))\n",
    "sns.countplot(data=qa_df, x=\"match_type\", hue=\"match_type\", palette=\"Set2\", legend=False)\n",
    "plt.title(\"Annotation Match Types\")\n",
    "plt.tight_layout()\n",
    "plt.savefig(base_path + \"match_type_bar_chart.png\")\n",
    "\n",
    "# ✅ Save pie chart\n",
    "error_counts = qa_df[\"error_type\"].fillna(\"None\").value_counts()\n",
    "\n",
    "plt.figure(figsize=(5, 5))\n",
    "plt.pie(error_counts, labels=error_counts.index, autopct='%1.1f%%', colors=sns.color_palette(\"pastel\"))\n",
    "plt.title(\"Distribution of Annotation Errors\")\n",
    "plt.tight_layout()\n",
    "plt.savefig(base_path + \"error_type_pie_chart.png\")\n",
    "\n",
    "print(\"Charts saved to PNG ✅\")\n"
   ]
  },
  {
   "cell_type": "code",
   "execution_count": null,
   "id": "95b44053-3166-4731-9f23-4a9881ac29bf",
   "metadata": {},
   "outputs": [],
   "source": []
  }
 ],
 "metadata": {
  "kernelspec": {
   "display_name": "Python (clinical-nlp-env)",
   "language": "python",
   "name": "clinical-nlp-env"
  },
  "language_info": {
   "codemirror_mode": {
    "name": "ipython",
    "version": 3
   },
   "file_extension": ".py",
   "mimetype": "text/x-python",
   "name": "python",
   "nbconvert_exporter": "python",
   "pygments_lexer": "ipython3",
   "version": "3.10.9"
  }
 },
 "nbformat": 4,
 "nbformat_minor": 5
}
